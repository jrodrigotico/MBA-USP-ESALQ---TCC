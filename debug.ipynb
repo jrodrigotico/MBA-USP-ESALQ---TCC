{
 "cells": [
  {
   "cell_type": "code",
   "execution_count": 26,
   "metadata": {},
   "outputs": [],
   "source": [
    "import polars as pl\n",
    "import numpy as np\n",
    "import pandas as pd\n",
    "from sklearn.decomposition import FactorAnalysis\n",
    "from sklearn.model_selection import train_test_split, GridSearchCV\n",
    "from sklearn.metrics import roc_auc_score \n",
    "from sklearn.ensemble import RandomForestClassifier\n",
    "from sklearn.metrics import accuracy_score, classification_report, confusion_matrix, f1_score, ConfusionMatrixDisplay\n",
    "from sklearn.preprocessing import OneHotEncoder\n",
    "from sklearn.inspection import permutation_importance\n",
    "from sklearn.preprocessing import OrdinalEncoder\n",
    "from matplotlib import pyplot as plt\n",
    "\n",
    "diretorio = \"D:\\dados - tcc mba/csv_files\""
   ]
  },
  {
   "cell_type": "markdown",
   "metadata": {},
   "source": [
    "# Tratamento dos dados\n",
    "- set_table_dtypes = Dados de colunas que terminam em 'P' ou 'A' são transformados em float64;\n",
    "- convert_strings = Converte colunas de strings em um DataFrame pandas em colunas categóricas\n",
    "- filter_cols = deleta colunas com mais de 50% dos dados nulos;\n"
   ]
  },
  {
   "cell_type": "code",
   "execution_count": 27,
   "metadata": {},
   "outputs": [],
   "source": [
    "def set_table_dtypes(df: pl.DataFrame) -> pl.DataFrame:\n",
    "    for col in df.columns:\n",
    "        # last letter of column name will help you determine the type\n",
    "        if col[-1] in (\"P\", \"A\"):\n",
    "            df = df.with_columns(pl.col(col).cast(pl.Float64).alias(col))\n",
    "\n",
    "    return df\n",
    "\n",
    "def convert_strings(df: pd.DataFrame) -> pd.DataFrame:\n",
    "    for col in df.columns:  \n",
    "        if df[col].dtype.name in ['object', 'string']:\n",
    "            df[col] = df[col].astype(\"string\").astype('category')\n",
    "            current_categories = df[col].cat.categories\n",
    "            new_categories = current_categories.to_list() + [\"Unknown\"]\n",
    "            new_dtype = pd.CategoricalDtype(categories=new_categories, ordered=True)\n",
    "            df[col] = df[col].astype(new_dtype)\n",
    "    return df\n",
    "\n",
    "\n",
    "def filter_cols(df):\n",
    "    # Retira colunas que tenham mais de 70% de valores nulos\n",
    "    cols_to_keep = [\"target\", \"case_id\", \"WEEK_NUM\", 'totalamount_6A', 'totalamount_996A', 'totaldebtoverduevalue_178A', 'totaldebtoverduevalue_718A', 'totaloutstanddebtvalue_39A', 'totaloutstanddebtvalue_668A']\n",
    "    cols_to_drop = []\n",
    "    \n",
    "    for col in df.columns:\n",
    "        if col not in cols_to_keep:\n",
    "            isnull = df[col].isnull().mean()\n",
    "            if isnull > 0.5:\n",
    "                cols_to_drop.append(col)\n",
    "\n",
    "    df = df.drop(columns=cols_to_drop, errors='ignore')\n",
    "\n",
    "    # Vê a quantidade de valores únicos na coluna, se a coluna tiver exatamente um valor único ou mais de 200, essa coluna é excluída\n",
    "    cols_to_drop = []\n",
    "    for col in df.columns:\n",
    "        if col not in cols_to_keep:\n",
    "            unique_count = df[col].nunique()\n",
    "            if unique_count == 1 or unique_count > 200:\n",
    "                cols_to_drop.append(col)\n",
    "\n",
    "    df = df.drop(columns=cols_to_drop, errors='ignore')\n",
    "\n",
    "    return df\n",
    "\n",
    "\n"
   ]
  },
  {
   "cell_type": "markdown",
   "metadata": {},
   "source": [
    "# Importação de dados do diretório\n",
    "Precisa-se de um método e explicações para selecionar determinadas bases, visto que tenho recurso computacional limitado."
   ]
  },
  {
   "cell_type": "code",
   "execution_count": 28,
   "metadata": {},
   "outputs": [],
   "source": [
    "# ---------- Dados Treino\n",
    "\n",
    "train_basetable = pl.read_csv(diretorio + \"/train/train_base.csv\")\n",
    "train_static = pl.concat(\n",
    "    [\n",
    "        pl.read_csv(diretorio + \"/train/train_static_0_0.csv\").pipe(set_table_dtypes),\n",
    "        pl.read_csv(diretorio + \"/train/train_static_0_1.csv\").pipe(set_table_dtypes),\n",
    "    ],\n",
    "    how=\"vertical_relaxed\",\n",
    ")\n",
    "train_static_cb = pl.read_csv(diretorio + \"/train/train_static_cb_0.csv\").pipe(set_table_dtypes)\n",
    "train_person_1 = pl.read_csv(diretorio + \"/train/train_person_1.csv\").pipe(set_table_dtypes) \n",
    "train_credit_bureau_b_2 = pl.read_csv(diretorio + \"/train/train_credit_bureau_b_2.csv\").pipe(set_table_dtypes)"
   ]
  },
  {
   "cell_type": "code",
   "execution_count": 29,
   "metadata": {},
   "outputs": [],
   "source": [
    "# ---------- Dados Teste\n",
    "\n",
    "test_basetable = pl.read_csv(diretorio + \"/test/test_base.csv\")\n",
    "test_static = pl.concat(\n",
    "    [\n",
    "        pl.read_csv(diretorio + \"/test/test_static_0_0.csv\").pipe(set_table_dtypes),\n",
    "        pl.read_csv(diretorio + \"/test/test_static_0_1.csv\").pipe(set_table_dtypes),\n",
    "        pl.read_csv(diretorio + \"/test/test_static_0_2.csv\").pipe(set_table_dtypes),\n",
    "    ],\n",
    "    how=\"vertical_relaxed\",\n",
    ")\n",
    "test_static_cb = pl.read_csv(diretorio + \"/test/test_static_cb_0.csv\").pipe(set_table_dtypes)\n",
    "test_person_1 = pl.read_csv(diretorio + \"/test/test_person_1.csv\").pipe(set_table_dtypes) \n",
    "test_credit_bureau_b_2 = pl.read_csv(diretorio + \"/test/test_credit_bureau_b_2.csv\").pipe(set_table_dtypes) "
   ]
  },
  {
   "cell_type": "markdown",
   "metadata": {},
   "source": [
    "# Agrupamento e organização dos dados\n",
    "O depth vai de 0 a 2, sendo que zero é o conjunto de dados menos agrupados (mais granulares) e dois são os dados mais agrupados (menos granulares)\n"
   ]
  },
  {
   "cell_type": "code",
   "execution_count": 30,
   "metadata": {},
   "outputs": [
    {
     "data": {
      "text/html": [
       "<div><style>\n",
       ".dataframe > thead > tr,\n",
       ".dataframe > tbody > tr {\n",
       "  text-align: right;\n",
       "  white-space: pre-wrap;\n",
       "}\n",
       "</style>\n",
       "<small>shape: (5, 58)</small><table border=\"1\" class=\"dataframe\"><thead><tr><th>case_id</th><th>date_decision</th><th>MONTH</th><th>WEEK_NUM</th><th>target</th><th>amtinstpaidbefduel24m_4187115A</th><th>annuity_780A</th><th>annuitynextmonth_57A</th><th>avginstallast24m_3658937A</th><th>avglnamtstart24m_4525187A</th><th>avgoutstandbalancel6m_4187114A</th><th>avgpmtlast12m_4525200A</th><th>credamount_770A</th><th>currdebt_22A</th><th>currdebtcredtyperange_828A</th><th>disbursedcredamount_1113A</th><th>downpmt_116A</th><th>inittransactionamount_650A</th><th>lastapprcommoditycat_1041M</th><th>lastapprcommoditytypec_5251766M</th><th>lastapprcredamount_781A</th><th>lastcancelreason_561M</th><th>lastotherinc_902A</th><th>lastotherlnsexpense_631A</th><th>lastrejectcommoditycat_161M</th><th>lastrejectcommodtypec_5251769M</th><th>lastrejectcredamount_222A</th><th>lastrejectreason_759M</th><th>lastrejectreasonclient_4145040M</th><th>maininc_215A</th><th>maxannuity_159A</th><th>maxannuity_4075009A</th><th>maxdebt4_972A</th><th>maxinstallast24m_3658928A</th><th>maxlnamtstart6m_4525199A</th><th>maxoutstandbalancel12m_4187113A</th><th>maxpmtlast3m_4525190A</th><th>previouscontdistrict_112M</th><th>price_1097A</th><th>sumoutstandtotal_3546847A</th><th>sumoutstandtotalest_4493215A</th><th>totaldebt_9A</th><th>totalsettled_863A</th><th>totinstallast1m_4525188A</th><th>description_5085714M</th><th>education_1103M</th><th>education_88M</th><th>maritalst_385M</th><th>maritalst_893M</th><th>pmtaverage_3A</th><th>pmtaverage_4527227A</th><th>pmtaverage_4955615A</th><th>pmtssum_45A</th><th>mainoccupationinc_384A_max</th><th>mainoccupationinc_384A_any_selfemployed</th><th>person_housetype</th><th>pmts_pmtsoverdue_635A_max</th><th>pmts_dpdvalue_108P_over31</th></tr><tr><td>i64</td><td>str</td><td>i64</td><td>i64</td><td>i64</td><td>f64</td><td>f64</td><td>f64</td><td>f64</td><td>f64</td><td>f64</td><td>f64</td><td>f64</td><td>f64</td><td>f64</td><td>f64</td><td>f64</td><td>f64</td><td>str</td><td>str</td><td>f64</td><td>str</td><td>f64</td><td>f64</td><td>str</td><td>str</td><td>f64</td><td>str</td><td>str</td><td>f64</td><td>f64</td><td>f64</td><td>f64</td><td>f64</td><td>f64</td><td>f64</td><td>f64</td><td>str</td><td>f64</td><td>f64</td><td>f64</td><td>f64</td><td>f64</td><td>f64</td><td>str</td><td>str</td><td>str</td><td>str</td><td>str</td><td>f64</td><td>f64</td><td>f64</td><td>f64</td><td>f64</td><td>bool</td><td>str</td><td>f64</td><td>bool</td></tr></thead><tbody><tr><td>0</td><td>&quot;2019-01-03&quot;</td><td>201901</td><td>0</td><td>0</td><td>null</td><td>1917.6</td><td>0.0</td><td>null</td><td>null</td><td>null</td><td>null</td><td>30000.0</td><td>0.0</td><td>0.0</td><td>30000.0</td><td>0.0</td><td>null</td><td>&quot;a55475b1&quot;</td><td>&quot;a55475b1&quot;</td><td>null</td><td>&quot;a55475b1&quot;</td><td>null</td><td>null</td><td>&quot;a55475b1&quot;</td><td>&quot;a55475b1&quot;</td><td>null</td><td>&quot;a55475b1&quot;</td><td>&quot;a55475b1&quot;</td><td>null</td><td>0.0</td><td>null</td><td>0.0</td><td>null</td><td>null</td><td>null</td><td>null</td><td>&quot;a55475b1&quot;</td><td>null</td><td>null</td><td>null</td><td>0.0</td><td>0.0</td><td>null</td><td>null</td><td>null</td><td>null</td><td>null</td><td>null</td><td>null</td><td>null</td><td>null</td><td>null</td><td>10800.0</td><td>false</td><td>null</td><td>null</td><td>null</td></tr><tr><td>1</td><td>&quot;2019-01-03&quot;</td><td>201901</td><td>0</td><td>0</td><td>null</td><td>3134.0</td><td>0.0</td><td>null</td><td>null</td><td>null</td><td>null</td><td>19999.8</td><td>0.0</td><td>0.0</td><td>19999.8</td><td>0.0</td><td>null</td><td>&quot;a55475b1&quot;</td><td>&quot;a55475b1&quot;</td><td>null</td><td>&quot;a55475b1&quot;</td><td>null</td><td>null</td><td>&quot;a55475b1&quot;</td><td>&quot;a55475b1&quot;</td><td>null</td><td>&quot;a55475b1&quot;</td><td>&quot;a55475b1&quot;</td><td>null</td><td>0.0</td><td>null</td><td>0.0</td><td>null</td><td>null</td><td>null</td><td>null</td><td>&quot;a55475b1&quot;</td><td>null</td><td>null</td><td>null</td><td>0.0</td><td>0.0</td><td>null</td><td>null</td><td>null</td><td>null</td><td>null</td><td>null</td><td>null</td><td>null</td><td>null</td><td>null</td><td>10000.0</td><td>false</td><td>null</td><td>null</td><td>null</td></tr><tr><td>2</td><td>&quot;2019-01-04&quot;</td><td>201901</td><td>0</td><td>0</td><td>null</td><td>4937.0</td><td>0.0</td><td>null</td><td>null</td><td>null</td><td>null</td><td>78000.0</td><td>0.0</td><td>0.0</td><td>78000.0</td><td>0.0</td><td>null</td><td>&quot;a55475b1&quot;</td><td>&quot;a55475b1&quot;</td><td>null</td><td>&quot;a55475b1&quot;</td><td>null</td><td>null</td><td>&quot;a55475b1&quot;</td><td>&quot;a55475b1&quot;</td><td>10000.0</td><td>&quot;a55475b1&quot;</td><td>&quot;a55475b1&quot;</td><td>null</td><td>0.0</td><td>null</td><td>0.0</td><td>null</td><td>null</td><td>null</td><td>null</td><td>&quot;a55475b1&quot;</td><td>null</td><td>null</td><td>null</td><td>0.0</td><td>0.0</td><td>null</td><td>null</td><td>null</td><td>null</td><td>null</td><td>null</td><td>null</td><td>null</td><td>null</td><td>null</td><td>14000.0</td><td>false</td><td>null</td><td>null</td><td>null</td></tr><tr><td>3</td><td>&quot;2019-01-03&quot;</td><td>201901</td><td>0</td><td>0</td><td>null</td><td>4643.6</td><td>0.0</td><td>null</td><td>null</td><td>null</td><td>null</td><td>40000.0</td><td>0.0</td><td>0.0</td><td>40000.0</td><td>0.0</td><td>null</td><td>&quot;a55475b1&quot;</td><td>&quot;a55475b1&quot;</td><td>null</td><td>&quot;P94_109_143&quot;</td><td>null</td><td>null</td><td>&quot;a55475b1&quot;</td><td>&quot;a55475b1&quot;</td><td>59999.8</td><td>&quot;P94_109_143&quot;</td><td>&quot;a55475b1&quot;</td><td>null</td><td>0.0</td><td>null</td><td>0.0</td><td>null</td><td>null</td><td>null</td><td>null</td><td>&quot;a55475b1&quot;</td><td>null</td><td>null</td><td>null</td><td>0.0</td><td>0.0</td><td>null</td><td>null</td><td>null</td><td>null</td><td>null</td><td>null</td><td>null</td><td>null</td><td>null</td><td>null</td><td>10000.0</td><td>false</td><td>null</td><td>null</td><td>null</td></tr><tr><td>4</td><td>&quot;2019-01-04&quot;</td><td>201901</td><td>0</td><td>1</td><td>null</td><td>3390.2</td><td>0.0</td><td>null</td><td>null</td><td>null</td><td>null</td><td>44000.0</td><td>0.0</td><td>0.0</td><td>44000.0</td><td>0.0</td><td>null</td><td>&quot;a55475b1&quot;</td><td>&quot;a55475b1&quot;</td><td>null</td><td>&quot;P24_27_36&quot;</td><td>null</td><td>null</td><td>&quot;a55475b1&quot;</td><td>&quot;a55475b1&quot;</td><td>null</td><td>&quot;a55475b1&quot;</td><td>&quot;a55475b1&quot;</td><td>null</td><td>0.0</td><td>null</td><td>0.0</td><td>null</td><td>null</td><td>null</td><td>null</td><td>&quot;a55475b1&quot;</td><td>null</td><td>null</td><td>null</td><td>0.0</td><td>0.0</td><td>null</td><td>null</td><td>null</td><td>null</td><td>null</td><td>null</td><td>null</td><td>null</td><td>null</td><td>null</td><td>24000.0</td><td>false</td><td>null</td><td>null</td><td>null</td></tr></tbody></table></div>"
      ],
      "text/plain": [
       "shape: (5, 58)\n",
       "┌─────────┬────────────┬────────┬──────────┬───┬────────────┬────────────┬────────────┬────────────┐\n",
       "│ case_id ┆ date_decis ┆ MONTH  ┆ WEEK_NUM ┆ … ┆ mainoccupa ┆ person_hou ┆ pmts_pmtso ┆ pmts_dpdva │\n",
       "│ ---     ┆ ion        ┆ ---    ┆ ---      ┆   ┆ tioninc_38 ┆ setype     ┆ verdue_635 ┆ lue_108P_o │\n",
       "│ i64     ┆ ---        ┆ i64    ┆ i64      ┆   ┆ 4A_any_sel ┆ ---        ┆ A_max      ┆ ver31      │\n",
       "│         ┆ str        ┆        ┆          ┆   ┆ fe…        ┆ str        ┆ ---        ┆ ---        │\n",
       "│         ┆            ┆        ┆          ┆   ┆ ---        ┆            ┆ f64        ┆ bool       │\n",
       "│         ┆            ┆        ┆          ┆   ┆ bool       ┆            ┆            ┆            │\n",
       "╞═════════╪════════════╪════════╪══════════╪═══╪════════════╪════════════╪════════════╪════════════╡\n",
       "│ 0       ┆ 2019-01-03 ┆ 201901 ┆ 0        ┆ … ┆ false      ┆ null       ┆ null       ┆ null       │\n",
       "│ 1       ┆ 2019-01-03 ┆ 201901 ┆ 0        ┆ … ┆ false      ┆ null       ┆ null       ┆ null       │\n",
       "│ 2       ┆ 2019-01-04 ┆ 201901 ┆ 0        ┆ … ┆ false      ┆ null       ┆ null       ┆ null       │\n",
       "│ 3       ┆ 2019-01-03 ┆ 201901 ┆ 0        ┆ … ┆ false      ┆ null       ┆ null       ┆ null       │\n",
       "│ 4       ┆ 2019-01-04 ┆ 201901 ┆ 0        ┆ … ┆ false      ┆ null       ┆ null       ┆ null       │\n",
       "└─────────┴────────────┴────────┴──────────┴───┴────────────┴────────────┴────────────┴────────────┘"
      ]
     },
     "execution_count": 30,
     "metadata": {},
     "output_type": "execute_result"
    }
   ],
   "source": [
    "train_person_1_feats_1 = train_person_1.group_by(\"case_id\").agg(\n",
    "    pl.col(\"mainoccupationinc_384A\").max().alias(\"mainoccupationinc_384A_max\"),\n",
    "    (pl.col(\"incometype_1044T\") == \"SELFEMPLOYED\").max().alias(\"mainoccupationinc_384A_any_selfemployed\"))\n",
    "\n",
    "\n",
    "# Pessoa que solicitou o empréstimo\n",
    "train_person_1_feats_2 = train_person_1.select([\"case_id\", \"num_group1\", \"housetype_905L\"]).filter(\n",
    "    pl.col(\"num_group1\") == 0\n",
    ").drop(\"num_group1\").rename({\"housetype_905L\": \"person_housetype\"})\n",
    "\n",
    "# Agrupamento\n",
    "train_credit_bureau_b_2_feats = train_credit_bureau_b_2.group_by(\"case_id\").agg(\n",
    "    pl.col(\"pmts_pmtsoverdue_635A\").max().alias(\"pmts_pmtsoverdue_635A_max\"),\n",
    "    (pl.col(\"pmts_dpdvalue_108P\") > 31).max().alias(\"pmts_dpdvalue_108P_over31\")\n",
    ")\n",
    "\n",
    "\n",
    "selected_static_cols = []\n",
    "for col in train_static.columns:\n",
    "    if col[-1] in (\"A\", \"M\"):\n",
    "        selected_static_cols.append(col)\n",
    "\n",
    "\n",
    "selected_static_cb_cols = []\n",
    "for col in train_static_cb.columns:\n",
    "    if col[-1] in (\"A\", \"M\"):\n",
    "        selected_static_cb_cols.append(col)\n",
    "\n",
    "\n",
    "# Join\n",
    "data_treino = train_basetable.join(\n",
    "    train_static.select([\"case_id\"]+selected_static_cols), how=\"left\", on=\"case_id\"\n",
    ").join(\n",
    "    train_static_cb.select([\"case_id\"]+selected_static_cb_cols), how=\"left\", on=\"case_id\"\n",
    ").join(\n",
    "    train_person_1_feats_1, how=\"left\", on=\"case_id\"\n",
    ").join(\n",
    "    train_person_1_feats_2, how=\"left\", on=\"case_id\"\n",
    ").join(\n",
    "    train_credit_bureau_b_2_feats, how=\"left\", on=\"case_id\"\n",
    ")\n",
    "\n",
    "data_treino.head()"
   ]
  },
  {
   "cell_type": "code",
   "execution_count": 31,
   "metadata": {},
   "outputs": [
    {
     "data": {
      "text/html": [
       "<div><style>\n",
       ".dataframe > thead > tr,\n",
       ".dataframe > tbody > tr {\n",
       "  text-align: right;\n",
       "  white-space: pre-wrap;\n",
       "}\n",
       "</style>\n",
       "<small>shape: (5, 57)</small><table border=\"1\" class=\"dataframe\"><thead><tr><th>case_id</th><th>date_decision</th><th>MONTH</th><th>WEEK_NUM</th><th>amtinstpaidbefduel24m_4187115A</th><th>annuity_780A</th><th>annuitynextmonth_57A</th><th>avginstallast24m_3658937A</th><th>avglnamtstart24m_4525187A</th><th>avgoutstandbalancel6m_4187114A</th><th>avgpmtlast12m_4525200A</th><th>credamount_770A</th><th>currdebt_22A</th><th>currdebtcredtyperange_828A</th><th>disbursedcredamount_1113A</th><th>downpmt_116A</th><th>inittransactionamount_650A</th><th>lastapprcommoditycat_1041M</th><th>lastapprcommoditytypec_5251766M</th><th>lastapprcredamount_781A</th><th>lastcancelreason_561M</th><th>lastotherinc_902A</th><th>lastotherlnsexpense_631A</th><th>lastrejectcommoditycat_161M</th><th>lastrejectcommodtypec_5251769M</th><th>lastrejectcredamount_222A</th><th>lastrejectreason_759M</th><th>lastrejectreasonclient_4145040M</th><th>maininc_215A</th><th>maxannuity_159A</th><th>maxannuity_4075009A</th><th>maxdebt4_972A</th><th>maxinstallast24m_3658928A</th><th>maxlnamtstart6m_4525199A</th><th>maxoutstandbalancel12m_4187113A</th><th>maxpmtlast3m_4525190A</th><th>previouscontdistrict_112M</th><th>price_1097A</th><th>sumoutstandtotal_3546847A</th><th>sumoutstandtotalest_4493215A</th><th>totaldebt_9A</th><th>totalsettled_863A</th><th>totinstallast1m_4525188A</th><th>description_5085714M</th><th>education_1103M</th><th>education_88M</th><th>maritalst_385M</th><th>maritalst_893M</th><th>pmtaverage_3A</th><th>pmtaverage_4527227A</th><th>pmtaverage_4955615A</th><th>pmtssum_45A</th><th>mainoccupationinc_384A_max</th><th>mainoccupationinc_384A_any_selfemployed</th><th>person_housetype</th><th>pmts_pmtsoverdue_635A_max</th><th>pmts_dpdvalue_108P_over31</th></tr><tr><td>i64</td><td>str</td><td>i64</td><td>i64</td><td>f64</td><td>f64</td><td>f64</td><td>f64</td><td>f64</td><td>f64</td><td>f64</td><td>f64</td><td>f64</td><td>f64</td><td>f64</td><td>f64</td><td>f64</td><td>str</td><td>str</td><td>f64</td><td>str</td><td>f64</td><td>f64</td><td>str</td><td>str</td><td>f64</td><td>str</td><td>str</td><td>f64</td><td>f64</td><td>f64</td><td>f64</td><td>f64</td><td>f64</td><td>f64</td><td>f64</td><td>str</td><td>f64</td><td>f64</td><td>f64</td><td>f64</td><td>f64</td><td>f64</td><td>str</td><td>str</td><td>str</td><td>str</td><td>str</td><td>f64</td><td>f64</td><td>f64</td><td>f64</td><td>f64</td><td>bool</td><td>str</td><td>f64</td><td>bool</td></tr></thead><tbody><tr><td>57543</td><td>&quot;2021-05-14&quot;</td><td>202201</td><td>100</td><td>191767.36</td><td>3674.6</td><td>1218.2001</td><td>16049.4</td><td>17054.4</td><td>14554.4</td><td>24482.0</td><td>20000.0</td><td>12154.4</td><td>0.0</td><td>20000.0</td><td>0.0</td><td>null</td><td>&quot;a55475b1&quot;</td><td>&quot;a55475b1&quot;</td><td>14000.0</td><td>&quot;a55475b1&quot;</td><td>null</td><td>null</td><td>&quot;P109_133_183&quot;</td><td>&quot;P49_111_165&quot;</td><td>24000.0</td><td>&quot;a55475b1&quot;</td><td>&quot;a55475b1&quot;</td><td>34000.0</td><td>280983.56</td><td>null</td><td>231440.03</td><td>131700.8</td><td>16672.6</td><td>157731.78</td><td>16641.4</td><td>&quot;a55475b1&quot;</td><td>0.0</td><td>12154.4</td><td>12154.4</td><td>12154.4</td><td>456031.1</td><td>17859.6</td><td>&quot;2fc785b2&quot;</td><td>&quot;6b2ae0fa&quot;</td><td>&quot;a55475b1&quot;</td><td>&quot;38c061ee&quot;</td><td>&quot;a55475b1&quot;</td><td>null</td><td>null</td><td>null</td><td>null</td><td>34000.0</td><td>false</td><td>null</td><td>null</td><td>null</td></tr><tr><td>57549</td><td>&quot;2022-01-17&quot;</td><td>202201</td><td>100</td><td>129704.4</td><td>5742.6</td><td>3546.6</td><td>32426.201</td><td>118964.805</td><td>13681.714</td><td>32426.201</td><td>75000.0</td><td>10638.2</td><td>10638.2</td><td>75000.0</td><td>0.0</td><td>null</td><td>&quot;a55475b1&quot;</td><td>&quot;a55475b1&quot;</td><td>94000.0</td><td>&quot;a55475b1&quot;</td><td>null</td><td>null</td><td>&quot;a55475b1&quot;</td><td>&quot;a55475b1&quot;</td><td>160000.0</td><td>&quot;a55475b1&quot;</td><td>&quot;P30_86_84&quot;</td><td>44000.0</td><td>337659.8</td><td>null</td><td>34066.0</td><td>122511.4</td><td>31820.6</td><td>21278.0</td><td>122511.4</td><td>&quot;a55475b1&quot;</td><td>null</td><td>10638.2</td><td>10638.2</td><td>10638.2</td><td>373720.84</td><td>126058.0</td><td>&quot;2fc785b2&quot;</td><td>&quot;39a0853f&quot;</td><td>&quot;a55475b1&quot;</td><td>&quot;a7fcb6e5&quot;</td><td>&quot;a55475b1&quot;</td><td>null</td><td>null</td><td>26815.6</td><td>null</td><td>49800.0</td><td>false</td><td>null</td><td>null</td><td>null</td></tr><tr><td>57551</td><td>&quot;2020-11-27&quot;</td><td>202201</td><td>100</td><td>71036.4</td><td>2844.6</td><td>0.0</td><td>8357.2</td><td>null</td><td>0.0</td><td>9551.0</td><td>27095.201</td><td>0.0</td><td>0.0</td><td>27095.201</td><td>0.0</td><td>null</td><td>&quot;a55475b1&quot;</td><td>&quot;a55475b1&quot;</td><td>200000.0</td><td>&quot;P85_114_140&quot;</td><td>null</td><td>null</td><td>&quot;a55475b1&quot;</td><td>&quot;a55475b1&quot;</td><td>null</td><td>&quot;a55475b1&quot;</td><td>&quot;a55475b1&quot;</td><td>70000.0</td><td>83400.0</td><td>null</td><td>54000.0</td><td>41783.402</td><td>54000.0</td><td>62619.0</td><td>null</td><td>&quot;P11_36_178&quot;</td><td>27095.201</td><td>0.0</td><td>0.0</td><td>0.0</td><td>75219.0</td><td>null</td><td>&quot;2fc785b2&quot;</td><td>&quot;6b2ae0fa&quot;</td><td>&quot;a55475b1&quot;</td><td>&quot;3439d993&quot;</td><td>&quot;a55475b1&quot;</td><td>null</td><td>null</td><td>null</td><td>null</td><td>59600.0</td><td>false</td><td>null</td><td>null</td><td>null</td></tr><tr><td>57552</td><td>&quot;2020-11-27&quot;</td><td>202201</td><td>100</td><td>183992.0</td><td>6298.8003</td><td>12155.4</td><td>7440.4</td><td>null</td><td>199322.4</td><td>9148.4</td><td>100000.0</td><td>191269.61</td><td>191269.61</td><td>100000.0</td><td>0.0</td><td>null</td><td>&quot;a55475b1&quot;</td><td>&quot;a55475b1&quot;</td><td>0.0</td><td>&quot;P94_109_143&quot;</td><td>null</td><td>null</td><td>&quot;a55475b1&quot;</td><td>&quot;a55475b1&quot;</td><td>150000.0</td><td>&quot;a55475b1&quot;</td><td>&quot;P94_109_143&quot;</td><td>null</td><td>110500.0</td><td>null</td><td>188126.14</td><td>12155.4</td><td>104473.6</td><td>288642.6</td><td>12155.4</td><td>&quot;P21_87_50&quot;</td><td>null</td><td>191269.61</td><td>191269.61</td><td>191269.61</td><td>284213.0</td><td>18889.0</td><td>&quot;2fc785b2&quot;</td><td>&quot;a55475b1&quot;</td><td>&quot;a55475b1&quot;</td><td>&quot;a55475b1&quot;</td><td>&quot;a55475b1&quot;</td><td>null</td><td>null</td><td>23402.8</td><td>null</td><td>112000.0</td><td>false</td><td>&quot;OWNED&quot;</td><td>null</td><td>null</td></tr><tr><td>57569</td><td>&quot;2021-12-20&quot;</td><td>202201</td><td>100</td><td>0.0</td><td>4682.6</td><td>0.0</td><td>null</td><td>null</td><td>null</td><td>10796.4</td><td>60000.0</td><td>0.0</td><td>0.0</td><td>60000.0</td><td>0.0</td><td>null</td><td>&quot;a55475b1&quot;</td><td>&quot;a55475b1&quot;</td><td>20000.0</td><td>&quot;P94_109_143&quot;</td><td>null</td><td>null</td><td>&quot;a55475b1&quot;</td><td>&quot;a55475b1&quot;</td><td>40000.0</td><td>&quot;a55475b1&quot;</td><td>&quot;P94_109_143&quot;</td><td>6000.0</td><td>37704.0</td><td>null</td><td>64555.668</td><td>null</td><td>null</td><td>0.0</td><td>null</td><td>&quot;a55475b1&quot;</td><td>null</td><td>0.0</td><td>0.0</td><td>0.0</td><td>95348.42</td><td>null</td><td>&quot;2fc785b2&quot;</td><td>&quot;717ddd49&quot;</td><td>&quot;a55475b1&quot;</td><td>&quot;3439d993&quot;</td><td>&quot;a55475b1&quot;</td><td>null</td><td>null</td><td>17333.6</td><td>null</td><td>58000.0</td><td>false</td><td>&quot;OWNED&quot;</td><td>null</td><td>null</td></tr></tbody></table></div>"
      ],
      "text/plain": [
       "shape: (5, 57)\n",
       "┌─────────┬────────────┬────────┬──────────┬───┬────────────┬────────────┬────────────┬────────────┐\n",
       "│ case_id ┆ date_decis ┆ MONTH  ┆ WEEK_NUM ┆ … ┆ mainoccupa ┆ person_hou ┆ pmts_pmtso ┆ pmts_dpdva │\n",
       "│ ---     ┆ ion        ┆ ---    ┆ ---      ┆   ┆ tioninc_38 ┆ setype     ┆ verdue_635 ┆ lue_108P_o │\n",
       "│ i64     ┆ ---        ┆ i64    ┆ i64      ┆   ┆ 4A_any_sel ┆ ---        ┆ A_max      ┆ ver31      │\n",
       "│         ┆ str        ┆        ┆          ┆   ┆ fe…        ┆ str        ┆ ---        ┆ ---        │\n",
       "│         ┆            ┆        ┆          ┆   ┆ ---        ┆            ┆ f64        ┆ bool       │\n",
       "│         ┆            ┆        ┆          ┆   ┆ bool       ┆            ┆            ┆            │\n",
       "╞═════════╪════════════╪════════╪══════════╪═══╪════════════╪════════════╪════════════╪════════════╡\n",
       "│ 57543   ┆ 2021-05-14 ┆ 202201 ┆ 100      ┆ … ┆ false      ┆ null       ┆ null       ┆ null       │\n",
       "│ 57549   ┆ 2022-01-17 ┆ 202201 ┆ 100      ┆ … ┆ false      ┆ null       ┆ null       ┆ null       │\n",
       "│ 57551   ┆ 2020-11-27 ┆ 202201 ┆ 100      ┆ … ┆ false      ┆ null       ┆ null       ┆ null       │\n",
       "│ 57552   ┆ 2020-11-27 ┆ 202201 ┆ 100      ┆ … ┆ false      ┆ OWNED      ┆ null       ┆ null       │\n",
       "│ 57569   ┆ 2021-12-20 ┆ 202201 ┆ 100      ┆ … ┆ false      ┆ OWNED      ┆ null       ┆ null       │\n",
       "└─────────┴────────────┴────────┴──────────┴───┴────────────┴────────────┴────────────┴────────────┘"
      ]
     },
     "execution_count": 31,
     "metadata": {},
     "output_type": "execute_result"
    }
   ],
   "source": [
    "test_person_1_feats_1 = test_person_1.group_by(\"case_id\").agg(\n",
    "    pl.col(\"mainoccupationinc_384A\").max().alias(\"mainoccupationinc_384A_max\"),\n",
    "    (pl.col(\"incometype_1044T\") == \"SELFEMPLOYED\").max().alias(\"mainoccupationinc_384A_any_selfemployed\")\n",
    ")\n",
    "\n",
    "test_person_1_feats_2 = test_person_1.select([\"case_id\", \"num_group1\", \"housetype_905L\"]).filter(\n",
    "    pl.col(\"num_group1\") == 0\n",
    ").drop(\"num_group1\").rename({\"housetype_905L\": \"person_housetype\"})\n",
    "\n",
    "test_credit_bureau_b_2_feats = test_credit_bureau_b_2.group_by(\"case_id\").agg(\n",
    "    pl.col(\"pmts_pmtsoverdue_635A\").max().alias(\"pmts_pmtsoverdue_635A_max\"),\n",
    "    (pl.col(\"pmts_dpdvalue_108P\") > 31).max().alias(\"pmts_dpdvalue_108P_over31\")\n",
    ")\n",
    "\n",
    "data_teste = test_basetable.join(\n",
    "    test_static.select([\"case_id\"]+selected_static_cols), how=\"left\", on=\"case_id\"\n",
    ").join(\n",
    "    test_static_cb.select([\"case_id\"]+selected_static_cb_cols), how=\"left\", on=\"case_id\"\n",
    ").join(\n",
    "    test_person_1_feats_1, how=\"left\", on=\"case_id\"\n",
    ").join(\n",
    "    test_person_1_feats_2, how=\"left\", on=\"case_id\"\n",
    ").join(\n",
    "    test_credit_bureau_b_2_feats, how=\"left\", on=\"case_id\"\n",
    ")\n",
    "\n",
    "data_teste.head()"
   ]
  },
  {
   "cell_type": "markdown",
   "metadata": {},
   "source": [
    "# Tratamento dos IDs, seleção de colunas, conversão polars para pandas"
   ]
  },
  {
   "cell_type": "code",
   "execution_count": 32,
   "metadata": {},
   "outputs": [],
   "source": [
    "# Embaralha os IDs de casos únicos no conjunto de dados data_treino e divide esses IDs em treino, teste e validação\n",
    "case_ids = data_treino[\"case_id\"].unique().shuffle(seed=1)\n",
    "case_ids_train, case_ids_test = train_test_split(case_ids, train_size=0.6, random_state=1)\n",
    "case_ids_valid, case_ids_test = train_test_split(case_ids_test, train_size=0.5, random_state=1)\n",
    "\n",
    "# Adiciona à lista cols_pred todas as colunas cujo último caractere é uma letra maiúscula e os caracteres anteriores são letras minúsculas.\n",
    "cols_pred = []\n",
    "for col in data_treino.columns:\n",
    "    if col[-1].isupper() and col[:-1].islower():\n",
    "        cols_pred.append(col)\n",
    "\n",
    "# Polars para Pandas\n",
    "def from_polars_to_pandas(case_ids: pl.DataFrame) -> pl.DataFrame:\n",
    "    return (\n",
    "        data_treino.filter(pl.col(\"case_id\").is_in(case_ids))[[\"case_id\", \"WEEK_NUM\", \"target\"]].to_pandas(),\n",
    "        data_treino.filter(pl.col(\"case_id\").is_in(case_ids))[cols_pred].to_pandas(),\n",
    "        data_treino.filter(pl.col(\"case_id\").is_in(case_ids))[\"target\"].to_pandas()\n",
    "    )\n",
    "\n",
    "base_train, treino_x, treino_y = from_polars_to_pandas(case_ids_train)\n",
    "base_valid, valid_x, valid_y = from_polars_to_pandas(case_ids_valid)\n",
    "base_test, teste_x, teste_y = from_polars_to_pandas(case_ids_test)\n",
    "\n",
    "\n",
    "for df in [treino_x, valid_x, teste_x]:\n",
    "    df = convert_strings(df)"
   ]
  },
  {
   "cell_type": "code",
   "execution_count": 33,
   "metadata": {},
   "outputs": [
    {
     "name": "stdout",
     "output_type": "stream",
     "text": [
      "Train: (915995, 48)\n",
      "Valid: (305332, 48)\n",
      "Test: (305332, 48)\n"
     ]
    }
   ],
   "source": [
    "print(f\"Train: {treino_x.shape}\")\n",
    "print(f\"Valid: {valid_x.shape}\")\n",
    "print(f\"Test: {teste_x.shape}\")"
   ]
  },
  {
   "cell_type": "markdown",
   "metadata": {},
   "source": [
    "# Retira colunas que tenham mais de 50% de valores nulos"
   ]
  },
  {
   "cell_type": "code",
   "execution_count": 34,
   "metadata": {},
   "outputs": [
    {
     "name": "stdout",
     "output_type": "stream",
     "text": [
      "Train: (915995, 12)\n",
      "Valid: (305332, 12)\n",
      "Test: (305332, 12)\n"
     ]
    }
   ],
   "source": [
    "treino_x = filter_cols(treino_x)\n",
    "valid_x = filter_cols(valid_x)\n",
    "teste_x = filter_cols(teste_x)\n",
    "\n",
    "print(f\"Train: {treino_x.shape}\")\n",
    "print(f\"Valid: {valid_x.shape}\")\n",
    "print(f\"Test: {teste_x.shape}\")\n",
    "\n"
   ]
  },
  {
   "cell_type": "markdown",
   "metadata": {},
   "source": [
    "# Análise fatorial para diminuir dimensionalidade das variáveis categóricas"
   ]
  },
  {
   "cell_type": "code",
   "execution_count": 35,
   "metadata": {},
   "outputs": [
    {
     "name": "stderr",
     "output_type": "stream",
     "text": [
      "c:\\Users\\Computadores Gamer\\AppData\\Local\\Programs\\Python\\Python311\\Lib\\site-packages\\sklearn\\preprocessing\\_encoders.py:972: FutureWarning: `sparse` was renamed to `sparse_output` in version 1.2 and will be removed in 1.4. `sparse_output` is ignored unless you leave `sparse` to its default value.\n",
      "  warnings.warn(\n"
     ]
    }
   ],
   "source": [
    "# Selecionar colunas não numéricas\n",
    "non_numeric_cols = treino_x.select_dtypes(exclude=['number']).columns\n",
    "\n",
    "# Aplicar codificação one-hot\n",
    "encoder = OneHotEncoder(handle_unknown='ignore', sparse=False)\n",
    "\n",
    "# Ajustar e transformar os dados de treino\n",
    "treino_x_encoded = encoder.fit_transform(treino_x[non_numeric_cols])\n",
    "valid_x_encoded = encoder.transform(valid_x[non_numeric_cols])\n",
    "teste_x_encoded = encoder.transform(teste_x[non_numeric_cols])\n",
    "\n",
    "# Converter os arrays de volta para DataFrames\n",
    "treino_x_encoded_df = pd.DataFrame(treino_x_encoded, index=treino_x.index, columns=encoder.get_feature_names_out(non_numeric_cols))\n",
    "valid_x_encoded_df = pd.DataFrame(valid_x_encoded, index=valid_x.index, columns=encoder.get_feature_names_out(non_numeric_cols))\n",
    "teste_x_encoded_df = pd.DataFrame(teste_x_encoded, index=teste_x.index, columns=encoder.get_feature_names_out(non_numeric_cols))\n",
    "\n",
    "\n",
    "# Definir o número de fatores\n",
    "n_factors = 10  # Ajuste conforme necessário\n",
    "\n",
    "# Aplicar a análise fatorial\n",
    "fa = FactorAnalysis(n_components=n_factors, random_state=42)\n",
    "\n",
    "\n",
    "# Ajustar e transformar os dados de treino\n",
    "treino_x_factors = fa.fit_transform(treino_x_encoded_df)\n",
    "valid_x_factors = fa.transform(valid_x_encoded_df)\n",
    "teste_x_factors = fa.transform(teste_x_encoded_df)\n",
    "\n",
    "# Converter de volta para DataFrames\n",
    "treino_x_factors_df = pd.DataFrame(treino_x_factors, index=treino_x.index, columns=[f'Factor{i+1}' for i in range(n_factors)])\n",
    "valid_x_factors_df = pd.DataFrame(valid_x_factors, index=valid_x.index, columns=[f'Factor{i+1}' for i in range(n_factors)])\n",
    "teste_x_factors_df = pd.DataFrame(teste_x_factors, index=teste_x.index, columns=[f'Factor{i+1}' for i in range(n_factors)])\n",
    "\n",
    "# Combinar fatores com as colunas numéricas originais\n",
    "treino_x = treino_x.drop(columns=non_numeric_cols).join(treino_x_factors_df)\n",
    "valid_x = valid_x.drop(columns=non_numeric_cols).join(valid_x_factors_df)\n",
    "teste_x = teste_x.drop(columns=non_numeric_cols).join(teste_x_factors_df)\n",
    "\n"
   ]
  },
  {
   "cell_type": "markdown",
   "metadata": {},
   "source": [
    "# Matriz de fatores"
   ]
  },
  {
   "cell_type": "code",
   "execution_count": 36,
   "metadata": {},
   "outputs": [
    {
     "name": "stdout",
     "output_type": "stream",
     "text": [
      "Fator1: ['description_5085714M_2fc785b2', 'description_5085714M_a55475b1']\n",
      "Fator2: ['description_5085714M_2fc785b2', 'description_5085714M_nan', 'education_1103M_nan', 'education_88M_a55475b1', 'education_88M_nan', 'maritalst_385M_nan', 'maritalst_893M_a55475b1', 'maritalst_893M_nan']\n",
      "Fator3: []\n",
      "Fator4: []\n",
      "Fator5: ['lastcancelreason_561M_P94_109_143', 'lastcancelreason_561M_a55475b1', 'lastrejectcommoditycat_161M_a55475b1', 'lastrejectreason_759M_P94_109_143', 'lastrejectreason_759M_P99_56_166', 'lastrejectreason_759M_a55475b1', 'lastrejectreasonclient_4145040M_P94_109_143', 'lastrejectreasonclient_4145040M_a55475b1']\n",
      "Fator6: ['education_1103M_a55475b1', 'maritalst_893M_a55475b1']\n",
      "Fator7: []\n",
      "Fator8: ['lastrejectreason_759M_P99_56_166', 'lastrejectreason_759M_a55475b1']\n",
      "Fator9: ['education_1103M_6b2ae0fa', 'education_1103M_a55475b1', 'maritalst_385M_3439d993', 'maritalst_385M_a55475b1']\n",
      "Fator10: []\n"
     ]
    }
   ],
   "source": [
    "# Obter a matriz de cargas fatoriais\n",
    "cargas_fatoriais = fa.components_.T\n",
    "\n",
    "# Converter para DataFrame para facilitar a interpretação\n",
    "cargas_fatoriais_df = pd.DataFrame(cargas_fatoriais, index=treino_x_encoded_df.columns, columns=[f'Fator{i+1}' for i in range(n_factors)])\n",
    "\n",
    "# Definir um limite para cargas significativas\n",
    "limite = 0.1\n",
    "\n",
    "# Listar variáveis associadas a cada fator\n",
    "variaveis_por_fator = {}\n",
    "for i in cargas_fatoriais_df.columns:\n",
    "    variaveis_por_fator[i] = cargas_fatoriais_df.index[cargas_fatoriais_df[i].abs() > limite].tolist()\n",
    "\n",
    "# Mostrar variáveis por fator\n",
    "for i, variaveis in variaveis_por_fator.items():\n",
    "    print(f'{i}: {variaveis}')"
   ]
  },
  {
   "cell_type": "code",
   "execution_count": 37,
   "metadata": {},
   "outputs": [],
   "source": [
    "del treino_x_encoded_df, valid_x_encoded_df, teste_x_encoded_df"
   ]
  },
  {
   "cell_type": "markdown",
   "metadata": {},
   "source": [
    "# Rodando uma Random Forest como teste\n",
    "Tentativa de grid_search para tunning do modelo, mas não foi possível devido ao recuso computacional limitado"
   ]
  },
  {
   "cell_type": "code",
   "execution_count": 38,
   "metadata": {},
   "outputs": [
    {
     "data": {
      "text/html": [
       "<style>#sk-container-id-3 {color: black;}#sk-container-id-3 pre{padding: 0;}#sk-container-id-3 div.sk-toggleable {background-color: white;}#sk-container-id-3 label.sk-toggleable__label {cursor: pointer;display: block;width: 100%;margin-bottom: 0;padding: 0.3em;box-sizing: border-box;text-align: center;}#sk-container-id-3 label.sk-toggleable__label-arrow:before {content: \"▸\";float: left;margin-right: 0.25em;color: #696969;}#sk-container-id-3 label.sk-toggleable__label-arrow:hover:before {color: black;}#sk-container-id-3 div.sk-estimator:hover label.sk-toggleable__label-arrow:before {color: black;}#sk-container-id-3 div.sk-toggleable__content {max-height: 0;max-width: 0;overflow: hidden;text-align: left;background-color: #f0f8ff;}#sk-container-id-3 div.sk-toggleable__content pre {margin: 0.2em;color: black;border-radius: 0.25em;background-color: #f0f8ff;}#sk-container-id-3 input.sk-toggleable__control:checked~div.sk-toggleable__content {max-height: 200px;max-width: 100%;overflow: auto;}#sk-container-id-3 input.sk-toggleable__control:checked~label.sk-toggleable__label-arrow:before {content: \"▾\";}#sk-container-id-3 div.sk-estimator input.sk-toggleable__control:checked~label.sk-toggleable__label {background-color: #d4ebff;}#sk-container-id-3 div.sk-label input.sk-toggleable__control:checked~label.sk-toggleable__label {background-color: #d4ebff;}#sk-container-id-3 input.sk-hidden--visually {border: 0;clip: rect(1px 1px 1px 1px);clip: rect(1px, 1px, 1px, 1px);height: 1px;margin: -1px;overflow: hidden;padding: 0;position: absolute;width: 1px;}#sk-container-id-3 div.sk-estimator {font-family: monospace;background-color: #f0f8ff;border: 1px dotted black;border-radius: 0.25em;box-sizing: border-box;margin-bottom: 0.5em;}#sk-container-id-3 div.sk-estimator:hover {background-color: #d4ebff;}#sk-container-id-3 div.sk-parallel-item::after {content: \"\";width: 100%;border-bottom: 1px solid gray;flex-grow: 1;}#sk-container-id-3 div.sk-label:hover label.sk-toggleable__label {background-color: #d4ebff;}#sk-container-id-3 div.sk-serial::before {content: \"\";position: absolute;border-left: 1px solid gray;box-sizing: border-box;top: 0;bottom: 0;left: 50%;z-index: 0;}#sk-container-id-3 div.sk-serial {display: flex;flex-direction: column;align-items: center;background-color: white;padding-right: 0.2em;padding-left: 0.2em;position: relative;}#sk-container-id-3 div.sk-item {position: relative;z-index: 1;}#sk-container-id-3 div.sk-parallel {display: flex;align-items: stretch;justify-content: center;background-color: white;position: relative;}#sk-container-id-3 div.sk-item::before, #sk-container-id-3 div.sk-parallel-item::before {content: \"\";position: absolute;border-left: 1px solid gray;box-sizing: border-box;top: 0;bottom: 0;left: 50%;z-index: -1;}#sk-container-id-3 div.sk-parallel-item {display: flex;flex-direction: column;z-index: 1;position: relative;background-color: white;}#sk-container-id-3 div.sk-parallel-item:first-child::after {align-self: flex-end;width: 50%;}#sk-container-id-3 div.sk-parallel-item:last-child::after {align-self: flex-start;width: 50%;}#sk-container-id-3 div.sk-parallel-item:only-child::after {width: 0;}#sk-container-id-3 div.sk-dashed-wrapped {border: 1px dashed gray;margin: 0 0.4em 0.5em 0.4em;box-sizing: border-box;padding-bottom: 0.4em;background-color: white;}#sk-container-id-3 div.sk-label label {font-family: monospace;font-weight: bold;display: inline-block;line-height: 1.2em;}#sk-container-id-3 div.sk-label-container {text-align: center;}#sk-container-id-3 div.sk-container {/* jupyter's `normalize.less` sets `[hidden] { display: none; }` but bootstrap.min.css set `[hidden] { display: none !important; }` so we also need the `!important` here to be able to override the default hidden behavior on the sphinx rendered scikit-learn.org. See: https://github.com/scikit-learn/scikit-learn/issues/21755 */display: inline-block !important;position: relative;}#sk-container-id-3 div.sk-text-repr-fallback {display: none;}</style><div id=\"sk-container-id-3\" class=\"sk-top-container\"><div class=\"sk-text-repr-fallback\"><pre>RandomForestClassifier(random_state=123)</pre><b>In a Jupyter environment, please rerun this cell to show the HTML representation or trust the notebook. <br />On GitHub, the HTML representation is unable to render, please try loading this page with nbviewer.org.</b></div><div class=\"sk-container\" hidden><div class=\"sk-item\"><div class=\"sk-estimator sk-toggleable\"><input class=\"sk-toggleable__control sk-hidden--visually\" id=\"sk-estimator-id-3\" type=\"checkbox\" checked><label for=\"sk-estimator-id-3\" class=\"sk-toggleable__label sk-toggleable__label-arrow\">RandomForestClassifier</label><div class=\"sk-toggleable__content\"><pre>RandomForestClassifier(random_state=123)</pre></div></div></div></div></div>"
      ],
      "text/plain": [
       "RandomForestClassifier(random_state=123)"
      ]
     },
     "execution_count": 38,
     "metadata": {},
     "output_type": "execute_result"
    }
   ],
   "source": [
    "rf = RandomForestClassifier(random_state=123)\n",
    "\n",
    "# param_grid = {\n",
    "#     'n_estimators': [100, 200, 300],\n",
    "#     'max_depth': [None, 10, 20, 30],\n",
    "#     'min_samples_split': [2, 5, 10],\n",
    "#     'min_samples_leaf': [1, 2, 4],\n",
    "#     'max_features': ['sqrt', 'log2', None]  # Remover 'auto' e usar valores válidos\n",
    "# }\n",
    "\n",
    "rf.fit(treino_x, treino_y)"
   ]
  },
  {
   "cell_type": "code",
   "execution_count": 39,
   "metadata": {},
   "outputs": [],
   "source": [
    "# grid_search = GridSearchCV(estimator=rf, param_grid=param_grid, cv=3, n_jobs=-1, verbose=2, scoring='roc_auc')\n",
    "# grid_search.fit(treino_x, treino_y)\n",
    "# print(\"Melhores parâmetros encontrados:\", grid_search.best_params_)\n",
    "# print(\"Melhor pontuação ROC AUC:\", grid_search.best_score_)\n"
   ]
  },
  {
   "cell_type": "code",
   "execution_count": 40,
   "metadata": {},
   "outputs": [],
   "source": [
    "# best_rf = grid_search.best_estimator_\n",
    "# y_pred_proba = best_rf.predict_proba(valid_x)[:, 1]\n",
    "# auc_score = roc_auc_score(valid_y, y_pred_proba)\n",
    "# auc_score"
   ]
  },
  {
   "cell_type": "markdown",
   "metadata": {},
   "source": [
    "# Importância das features"
   ]
  },
  {
   "cell_type": "code",
   "execution_count": 41,
   "metadata": {},
   "outputs": [
    {
     "data": {
      "image/png": "[encoded data removed]",
      "text/plain": [
       "<Figure size 1000x800 with 1 Axes>"
      ]
     },
     "metadata": {},
     "output_type": "display_data"
    }
   ],
   "source": [
    "sort = rf.feature_importances_.argsort()\n",
    "variaveis_top = sort[:]\n",
    "variaveis_nome = treino_x.columns\n",
    "\n",
    "plt.figure(figsize=(10, 8))\n",
    "plt.barh(variaveis_nome[variaveis_top], rf.feature_importances_[variaveis_top])\n",
    "plt.xlabel(\"Importância\")\n",
    "plt.ylabel(\"Feature\")\n",
    "plt.title(\"Fatores Mais Importantes\")\n",
    "plt.show()\n",
    "\n"
   ]
  },
  {
   "cell_type": "markdown",
   "metadata": {},
   "source": [
    "# Random Forest usando fatores como features"
   ]
  },
  {
   "cell_type": "code",
   "execution_count": 42,
   "metadata": {},
   "outputs": [
    {
     "data": {
      "text/html": [
       "<style>#sk-container-id-4 {color: black;}#sk-container-id-4 pre{padding: 0;}#sk-container-id-4 div.sk-toggleable {background-color: white;}#sk-container-id-4 label.sk-toggleable__label {cursor: pointer;display: block;width: 100%;margin-bottom: 0;padding: 0.3em;box-sizing: border-box;text-align: center;}#sk-container-id-4 label.sk-toggleable__label-arrow:before {content: \"▸\";float: left;margin-right: 0.25em;color: #696969;}#sk-container-id-4 label.sk-toggleable__label-arrow:hover:before {color: black;}#sk-container-id-4 div.sk-estimator:hover label.sk-toggleable__label-arrow:before {color: black;}#sk-container-id-4 div.sk-toggleable__content {max-height: 0;max-width: 0;overflow: hidden;text-align: left;background-color: #f0f8ff;}#sk-container-id-4 div.sk-toggleable__content pre {margin: 0.2em;color: black;border-radius: 0.25em;background-color: #f0f8ff;}#sk-container-id-4 input.sk-toggleable__control:checked~div.sk-toggleable__content {max-height: 200px;max-width: 100%;overflow: auto;}#sk-container-id-4 input.sk-toggleable__control:checked~label.sk-toggleable__label-arrow:before {content: \"▾\";}#sk-container-id-4 div.sk-estimator input.sk-toggleable__control:checked~label.sk-toggleable__label {background-color: #d4ebff;}#sk-container-id-4 div.sk-label input.sk-toggleable__control:checked~label.sk-toggleable__label {background-color: #d4ebff;}#sk-container-id-4 input.sk-hidden--visually {border: 0;clip: rect(1px 1px 1px 1px);clip: rect(1px, 1px, 1px, 1px);height: 1px;margin: -1px;overflow: hidden;padding: 0;position: absolute;width: 1px;}#sk-container-id-4 div.sk-estimator {font-family: monospace;background-color: #f0f8ff;border: 1px dotted black;border-radius: 0.25em;box-sizing: border-box;margin-bottom: 0.5em;}#sk-container-id-4 div.sk-estimator:hover {background-color: #d4ebff;}#sk-container-id-4 div.sk-parallel-item::after {content: \"\";width: 100%;border-bottom: 1px solid gray;flex-grow: 1;}#sk-container-id-4 div.sk-label:hover label.sk-toggleable__label {background-color: #d4ebff;}#sk-container-id-4 div.sk-serial::before {content: \"\";position: absolute;border-left: 1px solid gray;box-sizing: border-box;top: 0;bottom: 0;left: 50%;z-index: 0;}#sk-container-id-4 div.sk-serial {display: flex;flex-direction: column;align-items: center;background-color: white;padding-right: 0.2em;padding-left: 0.2em;position: relative;}#sk-container-id-4 div.sk-item {position: relative;z-index: 1;}#sk-container-id-4 div.sk-parallel {display: flex;align-items: stretch;justify-content: center;background-color: white;position: relative;}#sk-container-id-4 div.sk-item::before, #sk-container-id-4 div.sk-parallel-item::before {content: \"\";position: absolute;border-left: 1px solid gray;box-sizing: border-box;top: 0;bottom: 0;left: 50%;z-index: -1;}#sk-container-id-4 div.sk-parallel-item {display: flex;flex-direction: column;z-index: 1;position: relative;background-color: white;}#sk-container-id-4 div.sk-parallel-item:first-child::after {align-self: flex-end;width: 50%;}#sk-container-id-4 div.sk-parallel-item:last-child::after {align-self: flex-start;width: 50%;}#sk-container-id-4 div.sk-parallel-item:only-child::after {width: 0;}#sk-container-id-4 div.sk-dashed-wrapped {border: 1px dashed gray;margin: 0 0.4em 0.5em 0.4em;box-sizing: border-box;padding-bottom: 0.4em;background-color: white;}#sk-container-id-4 div.sk-label label {font-family: monospace;font-weight: bold;display: inline-block;line-height: 1.2em;}#sk-container-id-4 div.sk-label-container {text-align: center;}#sk-container-id-4 div.sk-container {/* jupyter's `normalize.less` sets `[hidden] { display: none; }` but bootstrap.min.css set `[hidden] { display: none !important; }` so we also need the `!important` here to be able to override the default hidden behavior on the sphinx rendered scikit-learn.org. See: https://github.com/scikit-learn/scikit-learn/issues/21755 */display: inline-block !important;position: relative;}#sk-container-id-4 div.sk-text-repr-fallback {display: none;}</style><div id=\"sk-container-id-4\" class=\"sk-top-container\"><div class=\"sk-text-repr-fallback\"><pre>RandomForestClassifier(random_state=42)</pre><b>In a Jupyter environment, please rerun this cell to show the HTML representation or trust the notebook. <br />On GitHub, the HTML representation is unable to render, please try loading this page with nbviewer.org.</b></div><div class=\"sk-container\" hidden><div class=\"sk-item\"><div class=\"sk-estimator sk-toggleable\"><input class=\"sk-toggleable__control sk-hidden--visually\" id=\"sk-estimator-id-4\" type=\"checkbox\" checked><label for=\"sk-estimator-id-4\" class=\"sk-toggleable__label sk-toggleable__label-arrow\">RandomForestClassifier</label><div class=\"sk-toggleable__content\"><pre>RandomForestClassifier(random_state=42)</pre></div></div></div></div></div>"
      ],
      "text/plain": [
       "RandomForestClassifier(random_state=42)"
      ]
     },
     "execution_count": 42,
     "metadata": {},
     "output_type": "execute_result"
    }
   ],
   "source": [
    "rf2 = RandomForestClassifier(n_estimators=100, random_state=42)\n",
    "rf2.fit (treino_x_factors_df, treino_y)"
   ]
  },
  {
   "cell_type": "markdown",
   "metadata": {},
   "source": [
    "# Matriz de confusão"
   ]
  },
  {
   "cell_type": "code",
   "execution_count": 43,
   "metadata": {},
   "outputs": [
    {
     "name": "stdout",
     "output_type": "stream",
     "text": [
      "Acurácia do modelo com fatores: 0.9684\n",
      "Acurácia no conjunto de teste: 0.9676\n"
     ]
    },
    {
     "data": {
      "image/png": "[encoded data removed]",
      "text/plain": [
       "<Figure size 640x480 with 2 Axes>"
      ]
     },
     "metadata": {},
     "output_type": "display_data"
    }
   ],
   "source": [
    "# Previsões no conjunto de validação\n",
    "valid_predictions = rf2.predict(valid_x_factors_df)\n",
    "\n",
    "# Avaliação do desempenho do modelo\n",
    "accuracy = accuracy_score(valid_y, valid_predictions)\n",
    "print(f\"Acurácia do modelo com fatores: {accuracy:.4f}\")\n",
    "\n",
    "# Previsões no conjunto de teste\n",
    "teste_predictions = rf2.predict(teste_x_factors_df)\n",
    "teste_accuracy = accuracy_score(teste_y, teste_predictions)\n",
    "print(f\"Acurácia no conjunto de teste: {teste_accuracy:.4f}\")\n",
    "\n",
    "\n",
    "# Gerar a matriz de confusão\n",
    "mc = confusion_matrix(valid_y, valid_predictions)\n",
    "\n",
    "# Exibir a matriz de confusão\n",
    "disp = ConfusionMatrixDisplay(confusion_matrix=mc, display_labels=rf.classes_)\n",
    "disp.plot(cmap=plt.cm.Blues)\n",
    "plt.title(\"Matriz de Confusão - Validação\")\n",
    "plt.show()"
   ]
  },
  {
   "cell_type": "markdown",
   "metadata": {},
   "source": [
    "# F1-score e ROC-AUC"
   ]
  },
  {
   "cell_type": "code",
   "execution_count": 44,
   "metadata": {},
   "outputs": [
    {
     "name": "stdout",
     "output_type": "stream",
     "text": [
      "F1 Score no conjunto de validação: 0.9537\n",
      "ROC-AUC no conjunto de validação: 0.6169\n"
     ]
    }
   ],
   "source": [
    "# F1 Score\n",
    "f1 = f1_score(valid_y, valid_predictions, average='weighted')\n",
    "print(f\"F1 Score no conjunto de validação: {f1:.4f}\")\n",
    "\n",
    "# ROC-AUC\n",
    "if len(np.unique(treino_y)) == 2:  # Checa se é um problema binário\n",
    "    roc_auc = roc_auc_score(valid_y, rf2.predict_proba(valid_x_factors_df)[:, 1])\n",
    "    print(f\"ROC-AUC no conjunto de validação: {roc_auc:.4f}\")"
   ]
  }
 ],
 "metadata": {
  "kernelspec": {
   "display_name": "Python 3",
   "language": "python",
   "name": "python3"
  },
  "language_info": {
   "codemirror_mode": {
    "name": "ipython",
    "version": 3
   },
   "file_extension": ".py",
   "mimetype": "text/x-python",
   "name": "python",
   "nbconvert_exporter": "python",
   "pygments_lexer": "ipython3",
   "version": "3.11.4"
  }
 },
 "nbformat": 4,
 "nbformat_minor": 2
}
